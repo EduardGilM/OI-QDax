{
 "cells": [
  {
   "cell_type": "code",
   "execution_count": null,
   "id": "f24c4ab3-9e8a-4673-bd8c-922ee303c838",
   "metadata": {},
   "outputs": [],
   "source": [
    "# Check and install dependencies\n",
    "import subprocess\n",
    "import sys\n",
    "\n",
    "# Try to import required packages\n",
    "try:\n",
    "    import jax\n",
    "    import jax.numpy as jnp\n",
    "    print(\"✓ JAX is available\")\n",
    "except ImportError:\n",
    "    print(\"❌ JAX not found. Please install with: conda install jax -c conda-forge\")\n",
    "    \n",
    "try:\n",
    "    import brax\n",
    "    from brax.io import html\n",
    "    print(\"✓ Brax is available\")\n",
    "except ImportError:\n",
    "    print(\"❌ Brax not found. Please install with: pip install brax\")\n",
    "\n",
    "# If both are available, continue\n",
    "try:\n",
    "    import jax\n",
    "    import brax\n",
    "    from IPython.display import HTML\n",
    "    print(\"✓ All required packages are available\")\n",
    "except ImportError as e:\n",
    "    print(f\"❌ Missing required packages: {e}\")\n",
    "    print(\"Please install the missing packages and restart the kernel\")"
   ]
  },
  {
   "cell_type": "code",
   "execution_count": null,
   "id": "fbe15f37",
   "metadata": {},
   "outputs": [],
   "source": [
    "# Load the left hand environment from local QDax repo\n",
    "import os\n",
    "import sys\n",
    "import importlib.util\n",
    "\n",
    "# Add the local QDax repo to the path\n",
    "qdax_repo_path = os.path.dirname(os.path.abspath(\"\"))\n",
    "sys.path.insert(0, qdax_repo_path)\n",
    "\n",
    "# Load the left hand environment directly\n",
    "env_file_path = os.path.join(qdax_repo_path, \"qdax\", \"environments\", \"left_hand.py\")\n",
    "spec = importlib.util.spec_from_file_location(\"left_hand\", env_file_path)\n",
    "left_hand_module = importlib.util.module_from_spec(spec)\n",
    "spec.loader.exec_module(left_hand_module)\n",
    "\n",
    "# Create the left hand environment\n",
    "env = left_hand_module.LeftHand()\n",
    "print(f\"✓ Left hand environment loaded: {env}\")\n",
    "print(f\"Action space: {env.action_size}\")\n",
    "print(f\"Observation space: {env.observation_size}\")"
   ]
  },
  {
   "cell_type": "code",
   "execution_count": null,
   "id": "7671b335",
   "metadata": {},
   "outputs": [],
   "source": [
    "# Run a rollout and render with HTML\n",
    "import jax\n",
    "import jax.numpy as jnp\n",
    "from brax.io import html\n",
    "from IPython.display import HTML\n",
    "\n",
    "# Initialize environment\n",
    "key = jax.random.PRNGKey(0)\n",
    "state = env.reset(key)\n",
    "\n",
    "# Run a rollout with random actions\n",
    "rollout = []\n",
    "episode_length = 1000  # Total steps to simulate\n",
    "\n",
    "for _ in range(episode_length):\n",
    "    # Random action\n",
    "    action = jax.random.uniform(key, (env.action_size,), minval=-1.0, maxval=1.0)\n",
    "    key, subkey = jax.random.split(key)\n",
    "    \n",
    "    # Step environment\n",
    "    state = env.step(state, action)\n",
    "    rollout.append(state)\n",
    "\n",
    "print(f\"✓ Completed rollout with {len(rollout)} steps\")\n",
    "\n",
    "# Render the first 500 steps as HTML\n",
    "HTML(html.render(env.sys, [s.qp for s in rollout[:500]]))"
   ]
  }
 ],
 "metadata": {
  "kernelspec": {
   "display_name": "Python 3 (ipykernel)",
   "language": "python",
   "name": "python3"
  },
  "language_info": {
   "codemirror_mode": {
    "name": "ipython",
    "version": 3
   },
   "file_extension": ".py",
   "mimetype": "text/x-python",
   "name": "python",
   "nbconvert_exporter": "python",
   "pygments_lexer": "ipython3",
   "version": "3.11.13"
  }
 },
 "nbformat": 4,
 "nbformat_minor": 5
}
